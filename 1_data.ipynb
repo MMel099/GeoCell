{
 "cells": [
  {
   "cell_type": "code",
   "execution_count": 199,
   "id": "a7a27218",
   "metadata": {},
   "outputs": [],
   "source": [
    "import anndata as ad\n",
    "import pandas as pd\n",
    "import numpy as np\n",
    "import altair as alt\n",
    "from scipy.spatial.distance import cdist\n",
    "import random\n",
    "\n",
    "# Set to None to display all rows\n",
    "pd.set_option('display.max_rows', 100)"
   ]
  },
  {
   "cell_type": "markdown",
   "id": "b88bc568",
   "metadata": {},
   "source": [
    "## read and process data"
   ]
  },
  {
   "cell_type": "code",
   "execution_count": 3,
   "id": "bf4502b1",
   "metadata": {},
   "outputs": [],
   "source": [
    "adata = ad.read_h5ad(\"Z147_1_750.h5ad\")"
   ]
  },
  {
   "cell_type": "code",
   "execution_count": 98,
   "id": "24acdc81",
   "metadata": {},
   "outputs": [
    {
     "name": "stdout",
     "output_type": "stream",
     "text": [
      "<bound method AnnData.obs_keys of AnnData object with n_obs × n_vars = 1110585 × 30\n",
      "    obs: 'X_centroid', 'Y_centroid', 'column_centroid', 'row_centroid', 'Area', 'MajorAxisLength', 'MinorAxisLength', 'Eccentricity', 'Solidity', 'Extent', 'Orientation', 'imageid', 'phenotype', 'kmeans', 'kmeans_renamed', 'pickseq_roi', 'pickseq_roi_minimal', 'dermis_roi', 'epidermis_roi', 'general_roi', 'Kmeans_r', 'der_epider_roi', 'phenotype_proliferation', 'phenograph', 'spatial_expression_phenograph', 'spatial_expression_kmeans', 'phenograph_raw', 'phenograph_raw_minimal', 'phenotype_1', 'phenotype_1_tumor_kmeans', 'phenotype_1_tumor_kmeans_renamed', 'phenotype_final', 'spatial_expression_consolidated', 'MC', 'spatial_count_kmeans', 'phenotype_2', 'phenotype_2_tumor_kmeans', 'phenotype_2_tumor_kmeans_renamed', 'phenotype_large_cohort', 'phenotype_large_cohort_RJP', 'spatial_lda_kmeans', 'phenotype_2_tumor_kmeans_old', 'tumor_expression_trimmed', 'tumor_expression_TC', 'IM_roi', 'TC_ROI_IM_large', 'TC_ROI_IM_small', 'TC_ROI_IM_elarge', 'manuscript_roi'\n",
      "    uns: 'all_markers', \"dendrogram_['kmeans']\", \"dendrogram_['phenograph']\", \"dendrogram_['phenograph_raw']\", \"dendrogram_['phenograph_raw_minimal']\", \"dendrogram_['phenotype']\", \"dendrogram_['phenotype_2_tumor_kmeans']\", \"dendrogram_['phenotype_2_tumor_kmeans_scaled']\", \"dendrogram_['spatial_expression_consolidated']\", \"dendrogram_['spatial_expression_kmeans']\", \"dendrogram_['spatial_expression_phenograph']\", 'interaction_all', 'rank_genes_groups', 'spatial_count_radius', 'spatial_distance', 'spatial_expression_radius', 'spatial_interaction', 'spatial_interaction_1', 'spatial_interaction_motif_analysis'>\n",
      "phenotype\n",
      "Tumor                           516383\n",
      "Unknown                         178607\n",
      "Myeloid Lineage                 131252\n",
      "Myofibroblast                    66197\n",
      "Blood Vessels                    57982\n",
      "APCs                             38483\n",
      "Macrophages                      29961\n",
      "T cells                          29729\n",
      "CD11C+ PDL1+ cells               15142\n",
      "Keratinocytes                    14153\n",
      "Terminally Exhausted T cells      8128\n",
      "Melanocytes                       7487\n",
      "Patially Exhausted T cells        6453\n",
      "Regulatory T cells                5036\n",
      "Mast cells                        3962\n",
      "Cytotoxic T cells                 1110\n",
      "Langerhan cells                    520\n",
      "Name: count, dtype: int64\n"
     ]
    }
   ],
   "source": [
    "print(adata.obs_keys)\n",
    "print(adata.obs['phenotype'].value_counts())\n"
   ]
  },
  {
   "cell_type": "markdown",
   "id": "89c56491-edcf-43bd-bd85-73b5371d193f",
   "metadata": {},
   "source": [
    "#### **First three observations look like:**"
   ]
  },
  {
   "cell_type": "code",
   "execution_count": 36,
   "id": "4e8cabd1-2666-4c0b-b8c3-ed0f0ddc2c62",
   "metadata": {},
   "outputs": [
    {
     "name": "stdout",
     "output_type": "stream",
     "text": [
      "                   X_centroid  Y_centroid  column_centroid  row_centroid  \\\n",
      "unmicst-1_750_1  36345.943182   16.662879     36345.943182     16.662879   \n",
      "unmicst-1_750_2  36494.212121   46.916667     36494.212121     46.916667   \n",
      "unmicst-1_750_3  36485.014706   52.926471     36485.014706     52.926471   \n",
      "\n",
      "                 Area  MajorAxisLength  MinorAxisLength  Eccentricity  \\\n",
      "unmicst-1_750_1   792        40.112476        25.480990      0.772316   \n",
      "unmicst-1_750_2   132        14.340782        12.703926      0.463953   \n",
      "unmicst-1_750_3    68        10.909423         9.252049      0.529870   \n",
      "\n",
      "                 Solidity    Extent  Orientation        imageid phenotype  \\\n",
      "unmicst-1_750_1  0.938389  0.673469     1.465017  unmicst-1_750   Unknown   \n",
      "unmicst-1_750_2  0.929577  0.628571     0.812762  unmicst-1_750   Unknown   \n",
      "unmicst-1_750_3  0.829268  0.472222    -0.257120  unmicst-1_750   Unknown   \n",
      "\n",
      "                  kmeans kmeans_renamed pickseq_roi pickseq_roi_minimal  \\\n",
      "unmicst-1_750_1  Unknown        Unknown       Other               Other   \n",
      "unmicst-1_750_2  Unknown        Unknown       Other               Other   \n",
      "unmicst-1_750_3  Unknown        Unknown       Other               Other   \n",
      "\n",
      "                dermis_roi epidermis_roi general_roi Kmeans_r der_epider_roi  \\\n",
      "unmicst-1_750_1      Other         Other       Other  Unknown          Other   \n",
      "unmicst-1_750_2      Other         Other       Other  Unknown          Other   \n",
      "unmicst-1_750_3      Other         Other       Other  Unknown          Other   \n",
      "\n",
      "                phenotype_proliferation phenograph  \\\n",
      "unmicst-1_750_1                 Unknown         30   \n",
      "unmicst-1_750_2                 Unknown         30   \n",
      "unmicst-1_750_3                 Unknown         30   \n",
      "\n",
      "                spatial_expression_phenograph spatial_expression_kmeans  \\\n",
      "unmicst-1_750_1                            22                         2   \n",
      "unmicst-1_750_2                            53                        24   \n",
      "unmicst-1_750_3                            53                        24   \n",
      "\n",
      "                phenograph_raw phenograph_raw_minimal phenotype_1  \\\n",
      "unmicst-1_750_1             30                  other     Unknown   \n",
      "unmicst-1_750_2             30                  other     Unknown   \n",
      "unmicst-1_750_3             30                  other     Unknown   \n",
      "\n",
      "                phenotype_1_tumor_kmeans phenotype_1_tumor_kmeans_renamed  \\\n",
      "unmicst-1_750_1                  Unknown                          Unknown   \n",
      "unmicst-1_750_2                  Unknown                          Unknown   \n",
      "unmicst-1_750_3                  Unknown                          Unknown   \n",
      "\n",
      "                phenotype_final spatial_expression_consolidated    MC  \\\n",
      "unmicst-1_750_1         Unknown                           Other  MC11   \n",
      "unmicst-1_750_2         Unknown                        artifact  MC12   \n",
      "unmicst-1_750_3         Unknown                        artifact  MC12   \n",
      "\n",
      "                spatial_count_kmeans phenotype_2 phenotype_2_tumor_kmeans  \\\n",
      "unmicst-1_750_1                   22     Unknown                  Unknown   \n",
      "unmicst-1_750_2                    2     Unknown                  Unknown   \n",
      "unmicst-1_750_3                    2     Unknown                  Unknown   \n",
      "\n",
      "                phenotype_2_tumor_kmeans_renamed phenotype_large_cohort  \\\n",
      "unmicst-1_750_1                          Unknown                Unknown   \n",
      "unmicst-1_750_2                          Unknown                Unknown   \n",
      "unmicst-1_750_3                          Unknown                Unknown   \n",
      "\n",
      "                phenotype_large_cohort_RJP spatial_lda_kmeans  \\\n",
      "unmicst-1_750_1                    Unknown                 17   \n",
      "unmicst-1_750_2                    Unknown                  2   \n",
      "unmicst-1_750_3                    Unknown                  2   \n",
      "\n",
      "                phenotype_2_tumor_kmeans_old tumor_expression_trimmed  \\\n",
      "unmicst-1_750_1                      Unknown                   stroma   \n",
      "unmicst-1_750_2                      Unknown                   stroma   \n",
      "unmicst-1_750_3                      Unknown                   stroma   \n",
      "\n",
      "                tumor_expression_TC IM_roi TC_ROI_IM_large TC_ROI_IM_small  \\\n",
      "unmicst-1_750_1              stroma  other           other           other   \n",
      "unmicst-1_750_2              stroma  other           other           other   \n",
      "unmicst-1_750_3              stroma  other           other           other   \n",
      "\n",
      "                TC_ROI_IM_elarge manuscript_roi  \n",
      "unmicst-1_750_1            other          Other  \n",
      "unmicst-1_750_2            other          Other  \n",
      "unmicst-1_750_3            other          Other  \n"
     ]
    }
   ],
   "source": [
    "print(adata.obs.head(3))"
   ]
  },
  {
   "cell_type": "markdown",
   "id": "42511698-31d6-4d3a-a166-ef05200296e6",
   "metadata": {},
   "source": [
    "#### **Data Shape:**"
   ]
  },
  {
   "cell_type": "code",
   "execution_count": 115,
   "id": "118ca168-577d-476d-a66c-b8aaacfe2346",
   "metadata": {},
   "outputs": [
    {
     "data": {
      "text/plain": [
       "(1110585, 30)"
      ]
     },
     "execution_count": 115,
     "metadata": {},
     "output_type": "execute_result"
    }
   ],
   "source": [
    "adata[list(adata.obs_names),:].X.shape"
   ]
  },
  {
   "cell_type": "markdown",
   "id": "9035eeb0-1199-460c-9dda-5a918338544a",
   "metadata": {},
   "source": [
    "### Sampling Schemes\n",
    "\n",
    "Two possible sampling schemes:\n",
    "1. Sample without replacement until each phenotype has some number, s, of samples.\n",
    "2. Randomly draw some number, n, of samples (Altair caps at 5000 so we must use this)"
   ]
  },
  {
   "cell_type": "code",
   "execution_count": 50,
   "id": "4f221f0d-7c15-4214-82fc-f940fa350901",
   "metadata": {},
   "outputs": [],
   "source": [
    "# Method 1\n",
    "\n",
    "# Identify all unique phenotypes\n",
    "phenotypes = adata.obs[\"phenotype\"].unique()\n",
    "\n",
    "# Set up dictionary to store sampled indices\n",
    "sampled_indices = {phenotype: [] for phenotype in phenotypes}\n",
    "\n",
    "# List of indices to sample from\n",
    "all_indices = list(range(adata.n_obs))\n",
    "\n",
    "# Sampling until conditions are met\n",
    "while True:\n",
    "    # Randomly draw an index\n",
    "    idx = random.choice(all_indices)\n",
    "    \n",
    "    # Determine the phenotype for this index\n",
    "    phenotype = adata.obs.iloc[idx][\"phenotype\"]\n",
    "    \n",
    "    # Add the index to the appropriate phenotype group\n",
    "    sampled_indices[phenotype].append(idx)\n",
    "    \n",
    "    # Check if all phenotypes have at least 30 samples\n",
    "    if all(len(indices) >= 30 for indices in sampled_indices.values()):\n",
    "        break\n",
    "\n",
    "# Gather the final sampled indices\n",
    "final_sampled_indices = [index for indices in sampled_indices.values() for index in indices]\n",
    "\n",
    "# Subset the AnnData object\n",
    "sampled_adata = adata[final_sampled_indices]\n"
   ]
  },
  {
   "cell_type": "code",
   "execution_count": 36,
   "id": "f5197d3f-67b6-488b-bbfe-3408386412de",
   "metadata": {},
   "outputs": [
    {
     "name": "stdout",
     "output_type": "stream",
     "text": [
      "phenotype\n",
      "Tumor                           31577\n",
      "Unknown                         10924\n",
      "Myeloid Lineage                  8285\n",
      "Myofibroblast                    4065\n",
      "Blood Vessels                    3613\n",
      "APCs                             2415\n",
      "T cells                          1828\n",
      "Macrophages                      1785\n",
      "CD11C+ PDL1+ cells                925\n",
      "Keratinocytes                     863\n",
      "Melanocytes                       507\n",
      "Terminally Exhausted T cells      493\n",
      "Patially Exhausted T cells        426\n",
      "Regulatory T cells                305\n",
      "Mast cells                        245\n",
      "Cytotoxic T cells                  69\n",
      "Langerhan cells                    30\n",
      "Name: count, dtype: int64\n"
     ]
    }
   ],
   "source": [
    "print(sampled_adata.obs['phenotype'].value_counts())"
   ]
  },
  {
   "cell_type": "code",
   "execution_count": 317,
   "id": "48501d31-e4d4-4c9b-a103-050c116044e8",
   "metadata": {},
   "outputs": [
    {
     "name": "stdout",
     "output_type": "stream",
     "text": [
      "(5000, 30)\n"
     ]
    }
   ],
   "source": [
    "# Method 2\n",
    "\n",
    "# Define the number of samples you want\n",
    "n_samples = 5000\n",
    "\n",
    "# Number of observations (cells) in the dataset\n",
    "n_obs = adata.n_obs\n",
    "\n",
    "# Ensure the sample size does not exceed the number of available observations\n",
    "if n_samples > n_obs:\n",
    "    raise ValueError(\"Number of samples requested exceeds the number of available observations.\")\n",
    "\n",
    "# Generate random indices for sampling\n",
    "random_indices = np.random.choice(n_obs, n_samples, replace=False)\n",
    "\n",
    "# Subset the AnnData object using the random indices\n",
    "sampled_adata = adata[random_indices, :]\n",
    "\n",
    "# Print the shape to confirm the subset process\n",
    "print(sampled_adata.shape)"
   ]
  },
  {
   "cell_type": "markdown",
   "id": "0b2aca79-2ba3-4321-b7d4-69e8f3dd2cc7",
   "metadata": {},
   "source": [
    "### **Plot phenotype grid**"
   ]
  },
  {
   "cell_type": "code",
   "execution_count": 353,
   "id": "b440c027-9c35-41f8-80ba-6403639c094c",
   "metadata": {
    "scrolled": true
   },
   "outputs": [
    {
     "name": "stderr",
     "output_type": "stream",
     "text": [
      "/opt/anaconda3/lib/python3.12/site-packages/altair/utils/core.py:395: FutureWarning: the convert_dtype parameter is deprecated and will be removed in a future version.  Do ``ser.astype(object).apply()`` instead if you want ``convert_dtype=False``.\n",
      "  col = df[col_name].apply(to_list_if_array, convert_dtype=False)\n"
     ]
    }
   ],
   "source": [
    "import altair as alt\n",
    "\n",
    "# Assuming `adata` is your AnnData object\n",
    "# adata = ad.read_h5ad('your_data.h5ad')\n",
    "\n",
    "# Preparing the data\n",
    "df = sampled_adata.obs[['X_centroid', 'Y_centroid', 'phenotype']]  # Replace 'phenotype' with the actual column name\n",
    "\n",
    "# Convert the relevant data to a DataFrame\n",
    "coordinates = df.reset_index()\n",
    "#chart_radio = alt.binding_radio(options = list_options)\n",
    "radio_select = alt.selection_point(\n",
    "    fields=['phenotype'],\n",
    "    bind=alt.binding_radio(\n",
    "        options=df['phenotype'].unique().tolist(),\n",
    "        name='Select Phenotype: '\n",
    "    )\n",
    ")\n",
    "\n",
    "# Create the scatter plot with Altair\n",
    "chart = alt.Chart(coordinates).mark_circle(size=60, opacity=0.5).encode(\n",
    "    x='X_centroid:Q',\n",
    "    y='Y_centroid:Q',\n",
    "    color='phenotype:N',  # Nominal encoding for categorical data\n",
    "    tooltip=['X_centroid', 'Y_centroid', 'phenotype']\n",
    ").properties(\n",
    "    width=800,\n",
    "    height=600,\n",
    "    title='Cell Centroid Coordinates by Phenotype'\n",
    ").add_params(radio_select).transform_filter(radio_select)\n",
    "\n",
    "# Display the chart\n",
    "chart.save(\"XY_scatter_V1.html\")  "
   ]
  },
  {
   "cell_type": "markdown",
   "id": "b5503f68-b721-48ac-a022-9edaf469b765",
   "metadata": {},
   "source": [
    "### **Plot Phenotype Neighborhoods**"
   ]
  },
  {
   "cell_type": "code",
   "execution_count": 372,
   "id": "d1bbfe16-ef86-4794-b7fb-6395d553af4f",
   "metadata": {},
   "outputs": [
    {
     "name": "stdout",
     "output_type": "stream",
     "text": [
      "                        X_centroid    Y_centroid      phenotype  \\\n",
      "unmicst-1_750_87105   10610.500000   3399.000000  Myofibroblast   \n",
      "unmicst-1_750_310496   9143.465517   9977.591954          Tumor   \n",
      "unmicst-1_750_468348   8906.988827  12215.469274          Tumor   \n",
      "unmicst-1_750_400074  27764.987952  11298.927711          Tumor   \n",
      "unmicst-1_750_415111  11935.690647  11495.949640          Tumor   \n",
      "\n",
      "                     normalized_avg_distance  \n",
      "unmicst-1_750_87105                 0.682964  \n",
      "unmicst-1_750_310496                1.220351  \n",
      "unmicst-1_750_468348                1.169139  \n",
      "unmicst-1_750_400074                0.569277  \n",
      "unmicst-1_750_415111                1.263545  \n"
     ]
    },
    {
     "name": "stderr",
     "output_type": "stream",
     "text": [
      "/var/folders/zf/q6vckqdx64v8bb5_y2dtjvjw0000gn/T/ipykernel_73037/1125307436.py:21: RuntimeWarning: invalid value encountered in divide\n",
      "  normalized_distances = np.power(avg_distances / phenotype_avg_distance,-1)\n",
      "/var/folders/zf/q6vckqdx64v8bb5_y2dtjvjw0000gn/T/ipykernel_73037/1125307436.py:32: SettingWithCopyWarning: \n",
      "A value is trying to be set on a copy of a slice from a DataFrame.\n",
      "Try using .loc[row_indexer,col_indexer] = value instead\n",
      "\n",
      "See the caveats in the documentation: https://pandas.pydata.org/pandas-docs/stable/user_guide/indexing.html#returning-a-view-versus-a-copy\n",
      "  df['normalized_avg_distance'] = normalized_distances['normalized_avg_distance']\n"
     ]
    }
   ],
   "source": [
    "# Function to calculate normalized average distances within each phenotype\n",
    "def calculate_normalized_distances(df,q):\n",
    "    results = pd.DataFrame(index=df.index, columns=['normalized_avg_distance'])\n",
    "    \n",
    "    # Iterate over each unique phenotype\n",
    "    for phenotype in df['phenotype'].unique():\n",
    "        phenotype_data = df[df['phenotype'] == phenotype]\n",
    "        if len(phenotype_data) > 1:\n",
    "            coords = phenotype_data[['X_centroid', 'Y_centroid']].values\n",
    "            distances = cdist(coords, coords, 'euclidean')  # Calculate pairwise distances\n",
    "\n",
    "            quantile_thresholds = np.quantile(distances, q, axis=0)\n",
    "            mask = (distances <= quantile_thresholds[:, np.newaxis]).astype(int)\n",
    "            neighbor_distances = np.multiply(mask,distances)\n",
    "            # Average distance per cell, excluding zero distance to self\n",
    "            avg_distances = (neighbor_distances.sum(axis=1) - np.diag(distances)) / (len(phenotype_data) - 1)\n",
    "            \n",
    "            # Calculate phenotype-wide average distance\n",
    "            phenotype_avg_distance = avg_distances.mean()\n",
    "            # Normalize individual average distances by phenotype-wide average, then take inverse\n",
    "            normalized_distances = np.power(avg_distances / phenotype_avg_distance,-1)\n",
    "            results.loc[phenotype_data.index, 'normalized_avg_distance'] = normalized_distances\n",
    "\n",
    "        else:\n",
    "            results.loc[phenotype_data.index, 'normalized_avg_distance'] = 1\n",
    "    return results\n",
    "\n",
    "# Calculate normalized average distances\n",
    "normalized_distances = calculate_normalized_distances(df,0.1)\n",
    "\n",
    "# Add result to the original DataFrame\n",
    "df['normalized_avg_distance'] = normalized_distances['normalized_avg_distance']\n",
    "print(df.head())"
   ]
  },
  {
   "cell_type": "code",
   "execution_count": 374,
   "id": "4f6cf3e0-a2c7-44a8-845c-7950b69f4723",
   "metadata": {},
   "outputs": [
    {
     "name": "stderr",
     "output_type": "stream",
     "text": [
      "/opt/anaconda3/lib/python3.12/site-packages/altair/utils/core.py:395: FutureWarning: the convert_dtype parameter is deprecated and will be removed in a future version.  Do ``ser.astype(object).apply()`` instead if you want ``convert_dtype=False``.\n",
      "  col = df[col_name].apply(to_list_if_array, convert_dtype=False)\n"
     ]
    }
   ],
   "source": [
    "radio_select = alt.selection_point(\n",
    "    fields=['phenotype'],\n",
    "    bind=alt.binding_radio(\n",
    "        options=df['phenotype'].unique().tolist(),\n",
    "        name='Select Phenotype: '\n",
    "    )\n",
    ")\n",
    "\n",
    "# Create the scatter plot with Altair, using the normalized_avg_distance for color\n",
    "chart = alt.Chart(df).mark_circle(size=60, opacity=0.7).encode(\n",
    "    x='X_centroid:Q',\n",
    "    y='Y_centroid:Q',\n",
    "    color=alt.Color('normalized_avg_distance:Q', scale=alt.Scale(scheme='reds'), title='Concentration'),\n",
    "    tooltip=['X_centroid', 'Y_centroid', 'phenotype', 'normalized_avg_distance']\n",
    ").properties(\n",
    "    width=800,\n",
    "    height=600,\n",
    "    title='Cell Centroid Coordinates with Concentration Encoding'\n",
    ").add_params(radio_select).transform_filter(radio_select)\n",
    "\n",
    "# Display the chart\n",
    "chart.save(\"XY_concentration_V2.html\") "
   ]
  },
  {
   "cell_type": "code",
   "execution_count": null,
   "id": "e56f5e67-b8aa-4c6b-b24e-4e7b7b7f072b",
   "metadata": {},
   "outputs": [],
   "source": []
  },
  {
   "cell_type": "code",
   "execution_count": null,
   "id": "e52097f1-c92b-488f-a33d-a402ffddeb29",
   "metadata": {},
   "outputs": [],
   "source": []
  },
  {
   "cell_type": "code",
   "execution_count": null,
   "id": "313d12b3-347a-4546-b226-6e3edaa39664",
   "metadata": {},
   "outputs": [],
   "source": []
  },
  {
   "cell_type": "code",
   "execution_count": null,
   "id": "a3898053-1af1-4a34-868e-3a674a744921",
   "metadata": {},
   "outputs": [],
   "source": []
  }
 ],
 "metadata": {
  "kernelspec": {
   "display_name": "Python 3 (ipykernel)",
   "language": "python",
   "name": "python3"
  },
  "language_info": {
   "codemirror_mode": {
    "name": "ipython",
    "version": 3
   },
   "file_extension": ".py",
   "mimetype": "text/x-python",
   "name": "python",
   "nbconvert_exporter": "python",
   "pygments_lexer": "ipython3",
   "version": "3.12.4"
  }
 },
 "nbformat": 4,
 "nbformat_minor": 5
}
